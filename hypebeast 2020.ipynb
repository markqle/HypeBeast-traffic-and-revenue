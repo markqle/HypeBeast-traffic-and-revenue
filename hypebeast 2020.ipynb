{
 "cells": [
  {
   "cell_type": "code",
   "execution_count": 1,
   "id": "ffad45b4",
   "metadata": {},
   "outputs": [],
   "source": [
    "import numpy as np\n",
    "import pandas as pd"
   ]
  },
  {
   "cell_type": "markdown",
   "id": "82be4d2a",
   "metadata": {},
   "source": [
    "*Customer information KYC*"
   ]
  },
  {
   "cell_type": "code",
   "execution_count": 13,
   "id": "e1f21087",
   "metadata": {},
   "outputs": [],
   "source": [
    "customer_info = pd.read_excel(r'C:\\Users\\markm\\Desktop\\Project\\customers (UK).xlsx',index_col=0,sheet_name=0)"
   ]
  },
  {
   "cell_type": "code",
   "execution_count": 14,
   "id": "92677969",
   "metadata": {},
   "outputs": [
    {
     "data": {
      "text/html": [
       "<div>\n",
       "<style scoped>\n",
       "    .dataframe tbody tr th:only-of-type {\n",
       "        vertical-align: middle;\n",
       "    }\n",
       "\n",
       "    .dataframe tbody tr th {\n",
       "        vertical-align: top;\n",
       "    }\n",
       "\n",
       "    .dataframe thead th {\n",
       "        text-align: right;\n",
       "    }\n",
       "</style>\n",
       "<table border=\"1\" class=\"dataframe\">\n",
       "  <thead>\n",
       "    <tr style=\"text-align: right;\">\n",
       "      <th></th>\n",
       "      <th>FirstName</th>\n",
       "      <th>LastName</th>\n",
       "      <th>Country</th>\n",
       "      <th>DateJoined</th>\n",
       "      <th>Gender</th>\n",
       "      <th>Birthday</th>\n",
       "      <th>Newsletter</th>\n",
       "    </tr>\n",
       "    <tr>\n",
       "      <th>ID</th>\n",
       "      <th></th>\n",
       "      <th></th>\n",
       "      <th></th>\n",
       "      <th></th>\n",
       "      <th></th>\n",
       "      <th></th>\n",
       "      <th></th>\n",
       "    </tr>\n",
       "  </thead>\n",
       "  <tbody>\n",
       "    <tr>\n",
       "      <th>0</th>\n",
       "      <td>V0.296680287495188</td>\n",
       "      <td>L0.104646531512644</td>\n",
       "      <td>FR - France</td>\n",
       "      <td>2015-12-18</td>\n",
       "      <td>NaN</td>\n",
       "      <td>1968-02-03</td>\n",
       "      <td>N</td>\n",
       "    </tr>\n",
       "    <tr>\n",
       "      <th>1</th>\n",
       "      <td>D0.793097101838541</td>\n",
       "      <td>Law0.141693355411763</td>\n",
       "      <td>GER - Germany</td>\n",
       "      <td>2015-12-21</td>\n",
       "      <td>M</td>\n",
       "      <td>2009-10-06</td>\n",
       "      <td>Y</td>\n",
       "    </tr>\n",
       "    <tr>\n",
       "      <th>2</th>\n",
       "      <td>Ker0.141418247925814</td>\n",
       "      <td>Ng0.753960335680345</td>\n",
       "      <td>FR - France</td>\n",
       "      <td>2015-12-22</td>\n",
       "      <td>F</td>\n",
       "      <td>1990-08-04</td>\n",
       "      <td>Y</td>\n",
       "    </tr>\n",
       "    <tr>\n",
       "      <th>3</th>\n",
       "      <td>Fik0.950054552966336</td>\n",
       "      <td>F0.590961171612745</td>\n",
       "      <td>UK - United Kingdom</td>\n",
       "      <td>2015-12-22</td>\n",
       "      <td>M</td>\n",
       "      <td>1974-07-24</td>\n",
       "      <td>N</td>\n",
       "    </tr>\n",
       "    <tr>\n",
       "      <th>4</th>\n",
       "      <td>Iona0.294287981536498</td>\n",
       "      <td>Ison0.826191754811968</td>\n",
       "      <td>IT - Italy</td>\n",
       "      <td>2015-12-22</td>\n",
       "      <td>M</td>\n",
       "      <td>1981-08-13</td>\n",
       "      <td>N</td>\n",
       "    </tr>\n",
       "  </tbody>\n",
       "</table>\n",
       "</div>"
      ],
      "text/plain": [
       "                FirstName               LastName              Country  \\\n",
       "ID                                                                      \n",
       "0      V0.296680287495188     L0.104646531512644          FR - France   \n",
       "1      D0.793097101838541   Law0.141693355411763        GER - Germany   \n",
       "2    Ker0.141418247925814    Ng0.753960335680345          FR - France   \n",
       "3    Fik0.950054552966336     F0.590961171612745  UK - United Kingdom   \n",
       "4   Iona0.294287981536498  Ison0.826191754811968           IT - Italy   \n",
       "\n",
       "   DateJoined Gender   Birthday Newsletter  \n",
       "ID                                          \n",
       "0  2015-12-18    NaN 1968-02-03          N  \n",
       "1  2015-12-21      M 2009-10-06          Y  \n",
       "2  2015-12-22      F 1990-08-04          Y  \n",
       "3  2015-12-22      M 1974-07-24          N  \n",
       "4  2015-12-22      M 1981-08-13          N  "
      ]
     },
     "execution_count": 14,
     "metadata": {},
     "output_type": "execute_result"
    }
   ],
   "source": [
    "customer_info.head(5)"
   ]
  },
  {
   "cell_type": "markdown",
   "id": "5c5fc3e6",
   "metadata": {},
   "source": [
    "*Items*"
   ]
  },
  {
   "cell_type": "code",
   "execution_count": 15,
   "id": "7e033873",
   "metadata": {},
   "outputs": [],
   "source": [
    "items = pd.read_excel(r'C:\\Users\\markm\\Desktop\\Project\\customers (UK).xlsx',index_col=0,sheet_name=1)"
   ]
  },
  {
   "cell_type": "code",
   "execution_count": 16,
   "id": "386033de",
   "metadata": {},
   "outputs": [
    {
     "data": {
      "text/html": [
       "<div>\n",
       "<style scoped>\n",
       "    .dataframe tbody tr th:only-of-type {\n",
       "        vertical-align: middle;\n",
       "    }\n",
       "\n",
       "    .dataframe tbody tr th {\n",
       "        vertical-align: top;\n",
       "    }\n",
       "\n",
       "    .dataframe thead th {\n",
       "        text-align: right;\n",
       "    }\n",
       "</style>\n",
       "<table border=\"1\" class=\"dataframe\">\n",
       "  <thead>\n",
       "    <tr style=\"text-align: right;\">\n",
       "      <th></th>\n",
       "      <th>Product</th>\n",
       "      <th>Brand</th>\n",
       "      <th>SellPrice</th>\n",
       "      <th>CostPrice</th>\n",
       "    </tr>\n",
       "    <tr>\n",
       "      <th>ItemID</th>\n",
       "      <th></th>\n",
       "      <th></th>\n",
       "      <th></th>\n",
       "      <th></th>\n",
       "    </tr>\n",
       "  </thead>\n",
       "  <tbody>\n",
       "    <tr>\n",
       "      <th>1</th>\n",
       "      <td>032irview0.686128260621012</td>\n",
       "      <td>Ki)D3jDmA,RIP68X</td>\n",
       "      <td>943</td>\n",
       "      <td>359</td>\n",
       "    </tr>\n",
       "    <tr>\n",
       "      <th>2</th>\n",
       "      <td>070ttream0.518887735674677</td>\n",
       "      <td>GO4582ey&lt;S!+k1VE</td>\n",
       "      <td>717</td>\n",
       "      <td>207</td>\n",
       "    </tr>\n",
       "    <tr>\n",
       "      <th>3</th>\n",
       "      <td>070htream0.333307794468401</td>\n",
       "      <td>G.Kb^jz*soY!(-4Q</td>\n",
       "      <td>739</td>\n",
       "      <td>199</td>\n",
       "    </tr>\n",
       "    <tr>\n",
       "      <th>4</th>\n",
       "      <td>100Grseys0.271522111052549</td>\n",
       "      <td>Dr|vm[-5p~56Y\\mk</td>\n",
       "      <td>532</td>\n",
       "      <td>262</td>\n",
       "    </tr>\n",
       "    <tr>\n",
       "      <th>5</th>\n",
       "      <td>100[nside0.645837365801341</td>\n",
       "      <td>Dr|vm[-5p~56Y\\mk</td>\n",
       "      <td>593</td>\n",
       "      <td>392</td>\n",
       "    </tr>\n",
       "  </tbody>\n",
       "</table>\n",
       "</div>"
      ],
      "text/plain": [
       "                           Product             Brand  SellPrice  CostPrice\n",
       "ItemID                                                                    \n",
       "1       032irview0.686128260621012  Ki)D3jDmA,RIP68X        943        359\n",
       "2       070ttream0.518887735674677  GO4582ey<S!+k1VE        717        207\n",
       "3       070htream0.333307794468401  G.Kb^jz*soY!(-4Q        739        199\n",
       "4       100Grseys0.271522111052549  Dr|vm[-5p~56Y\\mk        532        262\n",
       "5       100[nside0.645837365801341  Dr|vm[-5p~56Y\\mk        593        392"
      ]
     },
     "execution_count": 16,
     "metadata": {},
     "output_type": "execute_result"
    }
   ],
   "source": [
    "items.head(5)"
   ]
  },
  {
   "cell_type": "markdown",
   "id": "763e1291",
   "metadata": {},
   "source": [
    "*Customer Transaction*"
   ]
  },
  {
   "cell_type": "code",
   "execution_count": 18,
   "id": "3e5c51c5",
   "metadata": {},
   "outputs": [],
   "source": [
    "customer_transaction = pd.read_excel(r'C:\\Users\\markm\\Desktop\\Project\\customers (UK).xlsx',index_col=0,sheet_name=2)"
   ]
  },
  {
   "cell_type": "code",
   "execution_count": 19,
   "id": "b56d612e",
   "metadata": {},
   "outputs": [
    {
     "data": {
      "text/html": [
       "<div>\n",
       "<style scoped>\n",
       "    .dataframe tbody tr th:only-of-type {\n",
       "        vertical-align: middle;\n",
       "    }\n",
       "\n",
       "    .dataframe tbody tr th {\n",
       "        vertical-align: top;\n",
       "    }\n",
       "\n",
       "    .dataframe thead th {\n",
       "        text-align: right;\n",
       "    }\n",
       "</style>\n",
       "<table border=\"1\" class=\"dataframe\">\n",
       "  <thead>\n",
       "    <tr style=\"text-align: right;\">\n",
       "      <th></th>\n",
       "      <th>CustomerID</th>\n",
       "      <th>ItemID</th>\n",
       "      <th>TransactionDate</th>\n",
       "      <th>Channel</th>\n",
       "    </tr>\n",
       "    <tr>\n",
       "      <th>OrderID</th>\n",
       "      <th></th>\n",
       "      <th></th>\n",
       "      <th></th>\n",
       "      <th></th>\n",
       "    </tr>\n",
       "  </thead>\n",
       "  <tbody>\n",
       "    <tr>\n",
       "      <th>0</th>\n",
       "      <td>0</td>\n",
       "      <td>352</td>\n",
       "      <td>2020-03-21</td>\n",
       "      <td>In Store</td>\n",
       "    </tr>\n",
       "    <tr>\n",
       "      <th>0</th>\n",
       "      <td>0</td>\n",
       "      <td>3433</td>\n",
       "      <td>2020-07-14</td>\n",
       "      <td>In Store</td>\n",
       "    </tr>\n",
       "    <tr>\n",
       "      <th>0</th>\n",
       "      <td>0</td>\n",
       "      <td>11162</td>\n",
       "      <td>2020-08-09</td>\n",
       "      <td>In Store</td>\n",
       "    </tr>\n",
       "    <tr>\n",
       "      <th>0</th>\n",
       "      <td>0</td>\n",
       "      <td>13011</td>\n",
       "      <td>2020-12-07</td>\n",
       "      <td>In Store</td>\n",
       "    </tr>\n",
       "    <tr>\n",
       "      <th>0</th>\n",
       "      <td>0</td>\n",
       "      <td>13885</td>\n",
       "      <td>2020-11-08</td>\n",
       "      <td>In Store</td>\n",
       "    </tr>\n",
       "  </tbody>\n",
       "</table>\n",
       "</div>"
      ],
      "text/plain": [
       "         CustomerID  ItemID TransactionDate   Channel\n",
       "OrderID                                              \n",
       "0                 0     352      2020-03-21  In Store\n",
       "0                 0    3433      2020-07-14  In Store\n",
       "0                 0   11162      2020-08-09  In Store\n",
       "0                 0   13011      2020-12-07  In Store\n",
       "0                 0   13885      2020-11-08  In Store"
      ]
     },
     "execution_count": 19,
     "metadata": {},
     "output_type": "execute_result"
    }
   ],
   "source": [
    "customer_transaction.head(5)"
   ]
  },
  {
   "cell_type": "markdown",
   "id": "877e47ec",
   "metadata": {},
   "source": [
    "*Customer Traffic*"
   ]
  },
  {
   "cell_type": "code",
   "execution_count": 21,
   "id": "21f60b32",
   "metadata": {},
   "outputs": [],
   "source": [
    "traffic_01 = pd.read_excel(r'C:\\Users\\markm\\Desktop\\Project\\Traffic\\2020_01.xlsx')\n",
    "traffic_02 = pd.read_excel(r'C:\\Users\\markm\\Desktop\\Project\\Traffic\\2020_02.xlsx')\n",
    "traffic_03 = pd.read_excel(r'C:\\Users\\markm\\Desktop\\Project\\Traffic\\2020_03.xlsx')\n",
    "traffic_04 = pd.read_excel(r'C:\\Users\\markm\\Desktop\\Project\\Traffic\\2020_04.xlsx')\n",
    "traffic_05 = pd.read_excel(r'C:\\Users\\markm\\Desktop\\Project\\Traffic\\2020_05.xlsx')\n",
    "traffic_06 = pd.read_excel(r'C:\\Users\\markm\\Desktop\\Project\\Traffic\\2020_06.xlsx')\n",
    "traffic_07 = pd.read_excel(r'C:\\Users\\markm\\Desktop\\Project\\Traffic\\2020_07.xlsx')\n",
    "traffic_08 = pd.read_excel(r'C:\\Users\\markm\\Desktop\\Project\\Traffic\\2020_08.xlsx')\n",
    "traffic_09 = pd.read_excel(r'C:\\Users\\markm\\Desktop\\Project\\Traffic\\2020_09.xlsx')\n",
    "traffic_10 = pd.read_excel(r'C:\\Users\\markm\\Desktop\\Project\\Traffic\\2020_10.xlsx')\n",
    "traffic_11 = pd.read_excel(r'C:\\Users\\markm\\Desktop\\Project\\Traffic\\2020_11.xlsx')\n",
    "traffic_12 = pd.read_excel(r'C:\\Users\\markm\\Desktop\\Project\\Traffic\\2020_12.xlsx')"
   ]
  },
  {
   "cell_type": "code",
   "execution_count": 22,
   "id": "2f269be5",
   "metadata": {},
   "outputs": [],
   "source": [
    "frames = [traffic_01, traffic_02, traffic_03,traffic_04,traffic_05,traffic_06,traffic_07,traffic_08,traffic_09,traffic_10,\n",
    "         traffic_11,traffic_12]"
   ]
  },
  {
   "cell_type": "code",
   "execution_count": 23,
   "id": "f4067b66",
   "metadata": {},
   "outputs": [],
   "source": [
    "traffic = pd.concat(frames)"
   ]
  },
  {
   "cell_type": "code",
   "execution_count": 24,
   "id": "18c364f4",
   "metadata": {},
   "outputs": [
    {
     "data": {
      "text/plain": [
       "(17889, 6)"
      ]
     },
     "execution_count": 24,
     "metadata": {},
     "output_type": "execute_result"
    }
   ],
   "source": [
    "traffic.shape"
   ]
  },
  {
   "cell_type": "code",
   "execution_count": 25,
   "id": "79722c8d",
   "metadata": {},
   "outputs": [
    {
     "data": {
      "text/plain": [
       "Page URL                          object\n",
       "users                            float64\n",
       "uniquePageviews                  float64\n",
       "pageviews                        float64\n",
       "Brand                             object\n",
       "Posted On (DD/MM/YYYY)    datetime64[ns]\n",
       "dtype: object"
      ]
     },
     "execution_count": 25,
     "metadata": {},
     "output_type": "execute_result"
    }
   ],
   "source": [
    "traffic.dtypes"
   ]
  },
  {
   "cell_type": "code",
   "execution_count": 26,
   "id": "c71a2d1b",
   "metadata": {},
   "outputs": [
    {
     "data": {
      "text/html": [
       "<div>\n",
       "<style scoped>\n",
       "    .dataframe tbody tr th:only-of-type {\n",
       "        vertical-align: middle;\n",
       "    }\n",
       "\n",
       "    .dataframe tbody tr th {\n",
       "        vertical-align: top;\n",
       "    }\n",
       "\n",
       "    .dataframe thead th {\n",
       "        text-align: right;\n",
       "    }\n",
       "</style>\n",
       "<table border=\"1\" class=\"dataframe\">\n",
       "  <thead>\n",
       "    <tr style=\"text-align: right;\">\n",
       "      <th></th>\n",
       "      <th>Page URL</th>\n",
       "      <th>users</th>\n",
       "      <th>uniquePageviews</th>\n",
       "      <th>pageviews</th>\n",
       "      <th>Brand</th>\n",
       "      <th>Posted On (DD/MM/YYYY)</th>\n",
       "    </tr>\n",
       "  </thead>\n",
       "  <tbody>\n",
       "    <tr>\n",
       "      <th>0</th>\n",
       "      <td>/2020/1/032irview0.686128260621012</td>\n",
       "      <td>5669.2</td>\n",
       "      <td>5777.8</td>\n",
       "      <td>6286.4</td>\n",
       "      <td>Ki)D3jDmA,RIP68X</td>\n",
       "      <td>2020-01-10 16:56:13</td>\n",
       "    </tr>\n",
       "    <tr>\n",
       "      <th>1</th>\n",
       "      <td>/2020/1/070ttream0.518887735674677</td>\n",
       "      <td>359.8</td>\n",
       "      <td>370.4</td>\n",
       "      <td>403.4</td>\n",
       "      <td>GO4582ey&lt;S!+k1VE</td>\n",
       "      <td>2020-01-10 05:04:35</td>\n",
       "    </tr>\n",
       "    <tr>\n",
       "      <th>2</th>\n",
       "      <td>/2020/1/070htream0.333307794468401</td>\n",
       "      <td>587.6</td>\n",
       "      <td>614.2</td>\n",
       "      <td>657.6</td>\n",
       "      <td>G.Kb^jz*soY!(-4Q</td>\n",
       "      <td>2020-01-16 23:27:08</td>\n",
       "    </tr>\n",
       "    <tr>\n",
       "      <th>3</th>\n",
       "      <td>/2020/1/100Grseys0.271522111052549</td>\n",
       "      <td>1284.0</td>\n",
       "      <td>1308.6</td>\n",
       "      <td>1385.4</td>\n",
       "      <td>Dr|vm[-5p~56Y\\mk</td>\n",
       "      <td>2020-01-17 12:32:24</td>\n",
       "    </tr>\n",
       "    <tr>\n",
       "      <th>4</th>\n",
       "      <td>/2020/1/100[nside0.645837365801341</td>\n",
       "      <td>1846.0</td>\n",
       "      <td>1880.8</td>\n",
       "      <td>2025.0</td>\n",
       "      <td>Dr|vm[-5p~56Y\\mk</td>\n",
       "      <td>2020-01-23 05:21:08</td>\n",
       "    </tr>\n",
       "  </tbody>\n",
       "</table>\n",
       "</div>"
      ],
      "text/plain": [
       "                             Page URL   users  uniquePageviews  pageviews  \\\n",
       "0  /2020/1/032irview0.686128260621012  5669.2           5777.8     6286.4   \n",
       "1  /2020/1/070ttream0.518887735674677   359.8            370.4      403.4   \n",
       "2  /2020/1/070htream0.333307794468401   587.6            614.2      657.6   \n",
       "3  /2020/1/100Grseys0.271522111052549  1284.0           1308.6     1385.4   \n",
       "4  /2020/1/100[nside0.645837365801341  1846.0           1880.8     2025.0   \n",
       "\n",
       "              Brand Posted On (DD/MM/YYYY)  \n",
       "0  Ki)D3jDmA,RIP68X    2020-01-10 16:56:13  \n",
       "1  GO4582ey<S!+k1VE    2020-01-10 05:04:35  \n",
       "2  G.Kb^jz*soY!(-4Q    2020-01-16 23:27:08  \n",
       "3  Dr|vm[-5p~56Y\\mk    2020-01-17 12:32:24  \n",
       "4  Dr|vm[-5p~56Y\\mk    2020-01-23 05:21:08  "
      ]
     },
     "execution_count": 26,
     "metadata": {},
     "output_type": "execute_result"
    }
   ],
   "source": [
    "traffic.head(5)"
   ]
  },
  {
   "cell_type": "code",
   "execution_count": 27,
   "id": "8650a90a",
   "metadata": {},
   "outputs": [
    {
     "data": {
      "text/html": [
       "<div>\n",
       "<style scoped>\n",
       "    .dataframe tbody tr th:only-of-type {\n",
       "        vertical-align: middle;\n",
       "    }\n",
       "\n",
       "    .dataframe tbody tr th {\n",
       "        vertical-align: top;\n",
       "    }\n",
       "\n",
       "    .dataframe thead th {\n",
       "        text-align: right;\n",
       "    }\n",
       "</style>\n",
       "<table border=\"1\" class=\"dataframe\">\n",
       "  <thead>\n",
       "    <tr style=\"text-align: right;\">\n",
       "      <th></th>\n",
       "      <th>Page URL</th>\n",
       "      <th>users</th>\n",
       "      <th>uniquePageviews</th>\n",
       "      <th>pageviews</th>\n",
       "      <th>Brand</th>\n",
       "      <th>Posted On (DD/MM/YYYY)</th>\n",
       "    </tr>\n",
       "  </thead>\n",
       "  <tbody>\n",
       "    <tr>\n",
       "      <th>0</th>\n",
       "      <td>/2020/1/032irview0.686128260621012</td>\n",
       "      <td>5669.2</td>\n",
       "      <td>5777.8</td>\n",
       "      <td>6286.4</td>\n",
       "      <td>Ki)D3jDmA,RIP68X</td>\n",
       "      <td>2020-01-10 16:56:13</td>\n",
       "    </tr>\n",
       "    <tr>\n",
       "      <th>1</th>\n",
       "      <td>/2020/1/070ttream0.518887735674677</td>\n",
       "      <td>359.8</td>\n",
       "      <td>370.4</td>\n",
       "      <td>403.4</td>\n",
       "      <td>GO4582ey&lt;S!+k1VE</td>\n",
       "      <td>2020-01-10 05:04:35</td>\n",
       "    </tr>\n",
       "    <tr>\n",
       "      <th>2</th>\n",
       "      <td>/2020/1/070htream0.333307794468401</td>\n",
       "      <td>587.6</td>\n",
       "      <td>614.2</td>\n",
       "      <td>657.6</td>\n",
       "      <td>G.Kb^jz*soY!(-4Q</td>\n",
       "      <td>2020-01-16 23:27:08</td>\n",
       "    </tr>\n",
       "    <tr>\n",
       "      <th>3</th>\n",
       "      <td>/2020/1/100Grseys0.271522111052549</td>\n",
       "      <td>1284.0</td>\n",
       "      <td>1308.6</td>\n",
       "      <td>1385.4</td>\n",
       "      <td>Dr|vm[-5p~56Y\\mk</td>\n",
       "      <td>2020-01-17 12:32:24</td>\n",
       "    </tr>\n",
       "    <tr>\n",
       "      <th>4</th>\n",
       "      <td>/2020/1/100[nside0.645837365801341</td>\n",
       "      <td>1846.0</td>\n",
       "      <td>1880.8</td>\n",
       "      <td>2025.0</td>\n",
       "      <td>Dr|vm[-5p~56Y\\mk</td>\n",
       "      <td>2020-01-23 05:21:08</td>\n",
       "    </tr>\n",
       "    <tr>\n",
       "      <th>...</th>\n",
       "      <td>...</td>\n",
       "      <td>...</td>\n",
       "      <td>...</td>\n",
       "      <td>...</td>\n",
       "      <td>...</td>\n",
       "      <td>...</td>\n",
       "    </tr>\n",
       "    <tr>\n",
       "      <th>461</th>\n",
       "      <td>/2020/12/yinfbowls0.6558670149224</td>\n",
       "      <td>130.0</td>\n",
       "      <td>133.2</td>\n",
       "      <td>142.2</td>\n",
       "      <td>HoXbja)_x007f_qT:ESE8#</td>\n",
       "      <td>2020-12-01 04:55:35</td>\n",
       "    </tr>\n",
       "    <tr>\n",
       "      <th>462</th>\n",
       "      <td>/2020/12/yosolease0.0455049365834417</td>\n",
       "      <td>314.6</td>\n",
       "      <td>325.6</td>\n",
       "      <td>365.2</td>\n",
       "      <td>YoRQW7@*&amp;5W+~4Y\"</td>\n",
       "      <td>2020-12-03 15:25:00</td>\n",
       "    </tr>\n",
       "    <tr>\n",
       "      <th>463</th>\n",
       "      <td>/2020/12/you^-info0.127669879156147</td>\n",
       "      <td>1419.6</td>\n",
       "      <td>1448.4</td>\n",
       "      <td>1615.8</td>\n",
       "      <td>MouDd/fn,XEARhBp</td>\n",
       "      <td>2020-12-06 23:57:54</td>\n",
       "    </tr>\n",
       "    <tr>\n",
       "      <th>464</th>\n",
       "      <td>/2020/12/youe-info0.729842478879044</td>\n",
       "      <td>483.8</td>\n",
       "      <td>487.6</td>\n",
       "      <td>509.6</td>\n",
       "      <td>yo4}AUKGso=,?!DX</td>\n",
       "      <td>2020-12-04 05:59:22</td>\n",
       "    </tr>\n",
       "    <tr>\n",
       "      <th>465</th>\n",
       "      <td>/2020/12/zahJuseum0.120647638596675</td>\n",
       "      <td>823.2</td>\n",
       "      <td>837.6</td>\n",
       "      <td>886.8</td>\n",
       "      <td>Ch_x007f_w1fD(grL&amp;W)5k</td>\n",
       "      <td>2020-12-05 23:49:29</td>\n",
       "    </tr>\n",
       "  </tbody>\n",
       "</table>\n",
       "<p>17889 rows × 6 columns</p>\n",
       "</div>"
      ],
      "text/plain": [
       "                                 Page URL   users  uniquePageviews  pageviews  \\\n",
       "0      /2020/1/032irview0.686128260621012  5669.2           5777.8     6286.4   \n",
       "1      /2020/1/070ttream0.518887735674677   359.8            370.4      403.4   \n",
       "2      /2020/1/070htream0.333307794468401   587.6            614.2      657.6   \n",
       "3      /2020/1/100Grseys0.271522111052549  1284.0           1308.6     1385.4   \n",
       "4      /2020/1/100[nside0.645837365801341  1846.0           1880.8     2025.0   \n",
       "..                                    ...     ...              ...        ...   \n",
       "461     /2020/12/yinfbowls0.6558670149224   130.0            133.2      142.2   \n",
       "462  /2020/12/yosolease0.0455049365834417   314.6            325.6      365.2   \n",
       "463   /2020/12/you^-info0.127669879156147  1419.6           1448.4     1615.8   \n",
       "464   /2020/12/youe-info0.729842478879044   483.8            487.6      509.6   \n",
       "465   /2020/12/zahJuseum0.120647638596675   823.2            837.6      886.8   \n",
       "\n",
       "                      Brand Posted On (DD/MM/YYYY)  \n",
       "0          Ki)D3jDmA,RIP68X    2020-01-10 16:56:13  \n",
       "1          GO4582ey<S!+k1VE    2020-01-10 05:04:35  \n",
       "2          G.Kb^jz*soY!(-4Q    2020-01-16 23:27:08  \n",
       "3          Dr|vm[-5p~56Y\\mk    2020-01-17 12:32:24  \n",
       "4          Dr|vm[-5p~56Y\\mk    2020-01-23 05:21:08  \n",
       "..                      ...                    ...  \n",
       "461  HoXbja)_x007f_qT:ESE8#    2020-12-01 04:55:35  \n",
       "462        YoRQW7@*&5W+~4Y\"    2020-12-03 15:25:00  \n",
       "463        MouDd/fn,XEARhBp    2020-12-06 23:57:54  \n",
       "464        yo4}AUKGso=,?!DX    2020-12-04 05:59:22  \n",
       "465  Ch_x007f_w1fD(grL&W)5k    2020-12-05 23:49:29  \n",
       "\n",
       "[17889 rows x 6 columns]"
      ]
     },
     "execution_count": 27,
     "metadata": {},
     "output_type": "execute_result"
    }
   ],
   "source": [
    "traffic"
   ]
  },
  {
   "cell_type": "markdown",
   "id": "c414c84f",
   "metadata": {},
   "source": [
    "*Cleaning data*"
   ]
  },
  {
   "cell_type": "code",
   "execution_count": 28,
   "id": "c06e612d",
   "metadata": {},
   "outputs": [],
   "source": [
    "import re"
   ]
  },
  {
   "cell_type": "code",
   "execution_count": 30,
   "id": "536403f5",
   "metadata": {},
   "outputs": [
    {
     "data": {
      "text/plain": [
       "'/2020/1/032irview0.686128260621012'"
      ]
     },
     "execution_count": 30,
     "metadata": {},
     "output_type": "execute_result"
    }
   ],
   "source": [
    "traffic.iloc[0,0]"
   ]
  },
  {
   "cell_type": "code",
   "execution_count": 31,
   "id": "a99ff19c",
   "metadata": {},
   "outputs": [
    {
     "data": {
      "text/plain": [
       "'/2020/1/070ttream0.518887735674677'"
      ]
     },
     "execution_count": 31,
     "metadata": {},
     "output_type": "execute_result"
    }
   ],
   "source": [
    "traffic.iloc[1,0]"
   ]
  },
  {
   "cell_type": "code",
   "execution_count": 44,
   "id": "b9ac5850",
   "metadata": {},
   "outputs": [
    {
     "data": {
      "text/plain": [
       "'032irview0.686128260621012'"
      ]
     },
     "execution_count": 44,
     "metadata": {},
     "output_type": "execute_result"
    }
   ],
   "source": [
    "re.split('[/]',traffic.iloc[0,0])[-1]"
   ]
  },
  {
   "cell_type": "code",
   "execution_count": 41,
   "id": "80feb72d",
   "metadata": {},
   "outputs": [],
   "source": [
    "i = 0 \n",
    "for i in range(len(traffic)):\n",
    "    traffic.iloc[i,0] = re.split('[/]',traffic.iloc[i,0])[-1]"
   ]
  },
  {
   "cell_type": "code",
   "execution_count": 45,
   "id": "038a4bea",
   "metadata": {},
   "outputs": [],
   "source": [
    "traffic.rename(columns = {'Page URL':'Product'}, inplace = True)"
   ]
  },
  {
   "cell_type": "code",
   "execution_count": 46,
   "id": "e94380fd",
   "metadata": {},
   "outputs": [
    {
     "data": {
      "text/html": [
       "<div>\n",
       "<style scoped>\n",
       "    .dataframe tbody tr th:only-of-type {\n",
       "        vertical-align: middle;\n",
       "    }\n",
       "\n",
       "    .dataframe tbody tr th {\n",
       "        vertical-align: top;\n",
       "    }\n",
       "\n",
       "    .dataframe thead th {\n",
       "        text-align: right;\n",
       "    }\n",
       "</style>\n",
       "<table border=\"1\" class=\"dataframe\">\n",
       "  <thead>\n",
       "    <tr style=\"text-align: right;\">\n",
       "      <th></th>\n",
       "      <th>Product</th>\n",
       "      <th>users</th>\n",
       "      <th>uniquePageviews</th>\n",
       "      <th>pageviews</th>\n",
       "      <th>Brand</th>\n",
       "      <th>Posted On (DD/MM/YYYY)</th>\n",
       "    </tr>\n",
       "  </thead>\n",
       "  <tbody>\n",
       "    <tr>\n",
       "      <th>0</th>\n",
       "      <td>032irview0.686128260621012</td>\n",
       "      <td>5669.2</td>\n",
       "      <td>5777.8</td>\n",
       "      <td>6286.4</td>\n",
       "      <td>Ki)D3jDmA,RIP68X</td>\n",
       "      <td>2020-01-10 16:56:13</td>\n",
       "    </tr>\n",
       "    <tr>\n",
       "      <th>1</th>\n",
       "      <td>070ttream0.518887735674677</td>\n",
       "      <td>359.8</td>\n",
       "      <td>370.4</td>\n",
       "      <td>403.4</td>\n",
       "      <td>GO4582ey&lt;S!+k1VE</td>\n",
       "      <td>2020-01-10 05:04:35</td>\n",
       "    </tr>\n",
       "    <tr>\n",
       "      <th>2</th>\n",
       "      <td>070htream0.333307794468401</td>\n",
       "      <td>587.6</td>\n",
       "      <td>614.2</td>\n",
       "      <td>657.6</td>\n",
       "      <td>G.Kb^jz*soY!(-4Q</td>\n",
       "      <td>2020-01-16 23:27:08</td>\n",
       "    </tr>\n",
       "    <tr>\n",
       "      <th>3</th>\n",
       "      <td>100Grseys0.271522111052549</td>\n",
       "      <td>1284.0</td>\n",
       "      <td>1308.6</td>\n",
       "      <td>1385.4</td>\n",
       "      <td>Dr|vm[-5p~56Y\\mk</td>\n",
       "      <td>2020-01-17 12:32:24</td>\n",
       "    </tr>\n",
       "    <tr>\n",
       "      <th>4</th>\n",
       "      <td>100[nside0.645837365801341</td>\n",
       "      <td>1846.0</td>\n",
       "      <td>1880.8</td>\n",
       "      <td>2025.0</td>\n",
       "      <td>Dr|vm[-5p~56Y\\mk</td>\n",
       "      <td>2020-01-23 05:21:08</td>\n",
       "    </tr>\n",
       "    <tr>\n",
       "      <th>...</th>\n",
       "      <td>...</td>\n",
       "      <td>...</td>\n",
       "      <td>...</td>\n",
       "      <td>...</td>\n",
       "      <td>...</td>\n",
       "      <td>...</td>\n",
       "    </tr>\n",
       "    <tr>\n",
       "      <th>461</th>\n",
       "      <td>yinfbowls0.6558670149224</td>\n",
       "      <td>130.0</td>\n",
       "      <td>133.2</td>\n",
       "      <td>142.2</td>\n",
       "      <td>HoXbja)_x007f_qT:ESE8#</td>\n",
       "      <td>2020-12-01 04:55:35</td>\n",
       "    </tr>\n",
       "    <tr>\n",
       "      <th>462</th>\n",
       "      <td>yosolease0.0455049365834417</td>\n",
       "      <td>314.6</td>\n",
       "      <td>325.6</td>\n",
       "      <td>365.2</td>\n",
       "      <td>YoRQW7@*&amp;5W+~4Y\"</td>\n",
       "      <td>2020-12-03 15:25:00</td>\n",
       "    </tr>\n",
       "    <tr>\n",
       "      <th>463</th>\n",
       "      <td>you^-info0.127669879156147</td>\n",
       "      <td>1419.6</td>\n",
       "      <td>1448.4</td>\n",
       "      <td>1615.8</td>\n",
       "      <td>MouDd/fn,XEARhBp</td>\n",
       "      <td>2020-12-06 23:57:54</td>\n",
       "    </tr>\n",
       "    <tr>\n",
       "      <th>464</th>\n",
       "      <td>youe-info0.729842478879044</td>\n",
       "      <td>483.8</td>\n",
       "      <td>487.6</td>\n",
       "      <td>509.6</td>\n",
       "      <td>yo4}AUKGso=,?!DX</td>\n",
       "      <td>2020-12-04 05:59:22</td>\n",
       "    </tr>\n",
       "    <tr>\n",
       "      <th>465</th>\n",
       "      <td>zahJuseum0.120647638596675</td>\n",
       "      <td>823.2</td>\n",
       "      <td>837.6</td>\n",
       "      <td>886.8</td>\n",
       "      <td>Ch_x007f_w1fD(grL&amp;W)5k</td>\n",
       "      <td>2020-12-05 23:49:29</td>\n",
       "    </tr>\n",
       "  </tbody>\n",
       "</table>\n",
       "<p>17889 rows × 6 columns</p>\n",
       "</div>"
      ],
      "text/plain": [
       "                         Product   users  uniquePageviews  pageviews  \\\n",
       "0     032irview0.686128260621012  5669.2           5777.8     6286.4   \n",
       "1     070ttream0.518887735674677   359.8            370.4      403.4   \n",
       "2     070htream0.333307794468401   587.6            614.2      657.6   \n",
       "3     100Grseys0.271522111052549  1284.0           1308.6     1385.4   \n",
       "4     100[nside0.645837365801341  1846.0           1880.8     2025.0   \n",
       "..                           ...     ...              ...        ...   \n",
       "461     yinfbowls0.6558670149224   130.0            133.2      142.2   \n",
       "462  yosolease0.0455049365834417   314.6            325.6      365.2   \n",
       "463   you^-info0.127669879156147  1419.6           1448.4     1615.8   \n",
       "464   youe-info0.729842478879044   483.8            487.6      509.6   \n",
       "465   zahJuseum0.120647638596675   823.2            837.6      886.8   \n",
       "\n",
       "                      Brand Posted On (DD/MM/YYYY)  \n",
       "0          Ki)D3jDmA,RIP68X    2020-01-10 16:56:13  \n",
       "1          GO4582ey<S!+k1VE    2020-01-10 05:04:35  \n",
       "2          G.Kb^jz*soY!(-4Q    2020-01-16 23:27:08  \n",
       "3          Dr|vm[-5p~56Y\\mk    2020-01-17 12:32:24  \n",
       "4          Dr|vm[-5p~56Y\\mk    2020-01-23 05:21:08  \n",
       "..                      ...                    ...  \n",
       "461  HoXbja)_x007f_qT:ESE8#    2020-12-01 04:55:35  \n",
       "462        YoRQW7@*&5W+~4Y\"    2020-12-03 15:25:00  \n",
       "463        MouDd/fn,XEARhBp    2020-12-06 23:57:54  \n",
       "464        yo4}AUKGso=,?!DX    2020-12-04 05:59:22  \n",
       "465  Ch_x007f_w1fD(grL&W)5k    2020-12-05 23:49:29  \n",
       "\n",
       "[17889 rows x 6 columns]"
      ]
     },
     "execution_count": 46,
     "metadata": {},
     "output_type": "execute_result"
    }
   ],
   "source": [
    "traffic"
   ]
  },
  {
   "cell_type": "code",
   "execution_count": 47,
   "id": "909fdfa7",
   "metadata": {},
   "outputs": [],
   "source": [
    "import seaborn as sns\n",
    "import matplotlib.pyplot as plt\n",
    "%matplotlib inline"
   ]
  },
  {
   "cell_type": "code",
   "execution_count": 48,
   "id": "18d1b136",
   "metadata": {},
   "outputs": [],
   "source": [
    "from matplotlib import rcParams\n",
    "rcParams['figure.figsize'] = 15,8"
   ]
  },
  {
   "cell_type": "code",
   "execution_count": 55,
   "id": "4aae3aec",
   "metadata": {},
   "outputs": [
    {
     "data": {
      "text/plain": [
       "<AxesSubplot:xlabel='Posted On (DD/MM/YYYY)', ylabel='pageviews'>"
      ]
     },
     "execution_count": 55,
     "metadata": {},
     "output_type": "execute_result"
    },
    {
     "data": {
      "image/png": "[encoded data removed]",
      "text/plain": [
       "<Figure size 1500x800 with 1 Axes>"
      ]
     },
     "metadata": {},
     "output_type": "display_data"
    }
   ],
   "source": [
    "sns.lineplot(data = traffic, x = \"Posted On (DD/MM/YYYY)\", y = \"pageviews\")"
   ]
  },
  {
   "cell_type": "code",
   "execution_count": 56,
   "id": "905fce11",
   "metadata": {},
   "outputs": [],
   "source": [
    "traffic.reset_index(inplace=True, drop=True)"
   ]
  },
  {
   "cell_type": "code",
   "execution_count": 57,
   "id": "33c65a1f",
   "metadata": {},
   "outputs": [
    {
     "data": {
      "text/plain": [
       "<AxesSubplot:xlabel='Posted On (DD/MM/YYYY)', ylabel='uniquePageviews'>"
      ]
     },
     "execution_count": 57,
     "metadata": {},
     "output_type": "execute_result"
    },
    {
     "data": {
      "image/png": "[encoded data removed]",
      "text/plain": [
       "<Figure size 1500x800 with 1 Axes>"
      ]
     },
     "metadata": {},
     "output_type": "display_data"
    }
   ],
   "source": [
    "sns.lineplot(data=traffic, x=\"Posted On (DD/MM/YYYY)\", y=\"uniquePageviews\")"
   ]
  },
  {
   "cell_type": "code",
   "execution_count": 58,
   "id": "4c3c6b5c",
   "metadata": {},
   "outputs": [
    {
     "data": {
      "text/plain": [
       "<AxesSubplot:xlabel='Posted On (DD/MM/YYYY)', ylabel='users'>"
      ]
     },
     "execution_count": 58,
     "metadata": {},
     "output_type": "execute_result"
    },
    {
     "data": {
      "image/png": "[encoded data removed]",
      "text/plain": [
       "<Figure size 1500x800 with 1 Axes>"
      ]
     },
     "metadata": {},
     "output_type": "display_data"
    }
   ],
   "source": [
    "sns.lineplot(data=traffic, x=\"Posted On (DD/MM/YYYY)\", y=\"users\")"
   ]
  },
  {
   "cell_type": "code",
   "execution_count": 59,
   "id": "ece3745d",
   "metadata": {},
   "outputs": [],
   "source": [
    "result = customer_transaction.merge(customer_info,left_on = 'CustomerID', right_on = 'ID',how='inner').merge(items,left_on ='ItemID',right_on ='ItemID',how='inner')"
   ]
  },
  {
   "cell_type": "code",
   "execution_count": 60,
   "id": "30c6f61e",
   "metadata": {},
   "outputs": [
    {
     "data": {
      "text/html": [
       "<div>\n",
       "<style scoped>\n",
       "    .dataframe tbody tr th:only-of-type {\n",
       "        vertical-align: middle;\n",
       "    }\n",
       "\n",
       "    .dataframe tbody tr th {\n",
       "        vertical-align: top;\n",
       "    }\n",
       "\n",
       "    .dataframe thead th {\n",
       "        text-align: right;\n",
       "    }\n",
       "</style>\n",
       "<table border=\"1\" class=\"dataframe\">\n",
       "  <thead>\n",
       "    <tr style=\"text-align: right;\">\n",
       "      <th></th>\n",
       "      <th>CustomerID</th>\n",
       "      <th>ItemID</th>\n",
       "      <th>TransactionDate</th>\n",
       "      <th>Channel</th>\n",
       "      <th>FirstName</th>\n",
       "      <th>LastName</th>\n",
       "      <th>Country</th>\n",
       "      <th>DateJoined</th>\n",
       "      <th>Gender</th>\n",
       "      <th>Birthday</th>\n",
       "      <th>Newsletter</th>\n",
       "      <th>Product</th>\n",
       "      <th>Brand</th>\n",
       "      <th>SellPrice</th>\n",
       "      <th>CostPrice</th>\n",
       "    </tr>\n",
       "  </thead>\n",
       "  <tbody>\n",
       "    <tr>\n",
       "      <th>0</th>\n",
       "      <td>0</td>\n",
       "      <td>352</td>\n",
       "      <td>2020-03-21</td>\n",
       "      <td>In Store</td>\n",
       "      <td>V0.296680287495188</td>\n",
       "      <td>L0.104646531512644</td>\n",
       "      <td>FR - France</td>\n",
       "      <td>2015-12-18</td>\n",
       "      <td>NaN</td>\n",
       "      <td>1968-02-03</td>\n",
       "      <td>N</td>\n",
       "      <td>chrUrumor0.784919078952733</td>\n",
       "      <td>MouDd/fn,XEARhBp</td>\n",
       "      <td>735</td>\n",
       "      <td>426</td>\n",
       "    </tr>\n",
       "    <tr>\n",
       "      <th>1</th>\n",
       "      <td>57</td>\n",
       "      <td>352</td>\n",
       "      <td>2020-03-15</td>\n",
       "      <td>In Store</td>\n",
       "      <td>Var0.0876970591979241</td>\n",
       "      <td>Bhan0.0592432181453122</td>\n",
       "      <td>GER - Germany</td>\n",
       "      <td>2016-02-02</td>\n",
       "      <td>F</td>\n",
       "      <td>1966-01-14</td>\n",
       "      <td>N</td>\n",
       "      <td>chrUrumor0.784919078952733</td>\n",
       "      <td>MouDd/fn,XEARhBp</td>\n",
       "      <td>735</td>\n",
       "      <td>426</td>\n",
       "    </tr>\n",
       "    <tr>\n",
       "      <th>2</th>\n",
       "      <td>0</td>\n",
       "      <td>3433</td>\n",
       "      <td>2020-07-14</td>\n",
       "      <td>In Store</td>\n",
       "      <td>V0.296680287495188</td>\n",
       "      <td>L0.104646531512644</td>\n",
       "      <td>FR - France</td>\n",
       "      <td>2015-12-18</td>\n",
       "      <td>NaN</td>\n",
       "      <td>1968-02-03</td>\n",
       "      <td>N</td>\n",
       "      <td>corGvideo0.268391324982493</td>\n",
       "      <td>muy(D#\"d02`vwt_^</td>\n",
       "      <td>963</td>\n",
       "      <td>491</td>\n",
       "    </tr>\n",
       "    <tr>\n",
       "      <th>3</th>\n",
       "      <td>167</td>\n",
       "      <td>3433</td>\n",
       "      <td>2020-05-16</td>\n",
       "      <td>In Store</td>\n",
       "      <td>Y0.694526245425698</td>\n",
       "      <td>Pur0.889218979929135</td>\n",
       "      <td>UK - United Kingdom</td>\n",
       "      <td>2015-04-16</td>\n",
       "      <td>M</td>\n",
       "      <td>1972-03-23</td>\n",
       "      <td>Y</td>\n",
       "      <td>corGvideo0.268391324982493</td>\n",
       "      <td>muy(D#\"d02`vwt_^</td>\n",
       "      <td>963</td>\n",
       "      <td>491</td>\n",
       "    </tr>\n",
       "    <tr>\n",
       "      <th>4</th>\n",
       "      <td>307</td>\n",
       "      <td>3433</td>\n",
       "      <td>2020-04-23</td>\n",
       "      <td>In Store</td>\n",
       "      <td>Moh0.478682882191102</td>\n",
       "      <td>Khair0.475794987205303</td>\n",
       "      <td>FR - France</td>\n",
       "      <td>2016-06-02</td>\n",
       "      <td>NaN</td>\n",
       "      <td>1989-05-04</td>\n",
       "      <td>Y</td>\n",
       "      <td>corGvideo0.268391324982493</td>\n",
       "      <td>muy(D#\"d02`vwt_^</td>\n",
       "      <td>963</td>\n",
       "      <td>491</td>\n",
       "    </tr>\n",
       "  </tbody>\n",
       "</table>\n",
       "</div>"
      ],
      "text/plain": [
       "   CustomerID  ItemID TransactionDate   Channel              FirstName  \\\n",
       "0           0     352      2020-03-21  In Store     V0.296680287495188   \n",
       "1          57     352      2020-03-15  In Store  Var0.0876970591979241   \n",
       "2           0    3433      2020-07-14  In Store     V0.296680287495188   \n",
       "3         167    3433      2020-05-16  In Store     Y0.694526245425698   \n",
       "4         307    3433      2020-04-23  In Store   Moh0.478682882191102   \n",
       "\n",
       "                 LastName              Country DateJoined Gender   Birthday  \\\n",
       "0      L0.104646531512644          FR - France 2015-12-18    NaN 1968-02-03   \n",
       "1  Bhan0.0592432181453122        GER - Germany 2016-02-02      F 1966-01-14   \n",
       "2      L0.104646531512644          FR - France 2015-12-18    NaN 1968-02-03   \n",
       "3    Pur0.889218979929135  UK - United Kingdom 2015-04-16      M 1972-03-23   \n",
       "4  Khair0.475794987205303          FR - France 2016-06-02    NaN 1989-05-04   \n",
       "\n",
       "  Newsletter                     Product             Brand  SellPrice  \\\n",
       "0          N  chrUrumor0.784919078952733  MouDd/fn,XEARhBp        735   \n",
       "1          N  chrUrumor0.784919078952733  MouDd/fn,XEARhBp        735   \n",
       "2          N  corGvideo0.268391324982493  muy(D#\"d02`vwt_^        963   \n",
       "3          Y  corGvideo0.268391324982493  muy(D#\"d02`vwt_^        963   \n",
       "4          Y  corGvideo0.268391324982493  muy(D#\"d02`vwt_^        963   \n",
       "\n",
       "   CostPrice  \n",
       "0        426  \n",
       "1        426  \n",
       "2        491  \n",
       "3        491  \n",
       "4        491  "
      ]
     },
     "execution_count": 60,
     "metadata": {},
     "output_type": "execute_result"
    }
   ],
   "source": [
    "result.head(5)"
   ]
  },
  {
   "cell_type": "code",
   "execution_count": 61,
   "id": "1c421898",
   "metadata": {},
   "outputs": [
    {
     "data": {
      "text/plain": [
       "CustomerID                  int64\n",
       "ItemID                      int64\n",
       "TransactionDate    datetime64[ns]\n",
       "Channel                    object\n",
       "FirstName                  object\n",
       "LastName                   object\n",
       "Country                    object\n",
       "DateJoined         datetime64[ns]\n",
       "Gender                     object\n",
       "Birthday           datetime64[ns]\n",
       "Newsletter                 object\n",
       "Product                    object\n",
       "Brand                      object\n",
       "SellPrice                   int64\n",
       "CostPrice                   int64\n",
       "dtype: object"
      ]
     },
     "execution_count": 61,
     "metadata": {},
     "output_type": "execute_result"
    }
   ],
   "source": [
    "result.dtypes"
   ]
  },
  {
   "cell_type": "code",
   "execution_count": 63,
   "id": "300ca438",
   "metadata": {},
   "outputs": [
    {
     "ename": "KeyError",
     "evalue": "\"Column(s) ['OrderID'] do not exist\"",
     "output_type": "error",
     "traceback": [
      "\u001b[1;31m---------------------------------------------------------------------------\u001b[0m",
      "\u001b[1;31mKeyError\u001b[0m                                  Traceback (most recent call last)",
      "\u001b[1;32m~\\AppData\\Local\\Temp\\ipykernel_18604\\3510247749.py\u001b[0m in \u001b[0;36m<module>\u001b[1;34m\u001b[0m\n\u001b[1;32m----> 1\u001b[1;33m \u001b[0mtransaction_summary\u001b[0m \u001b[1;33m=\u001b[0m \u001b[0mresult\u001b[0m\u001b[1;33m.\u001b[0m\u001b[0mgroupby\u001b[0m\u001b[1;33m(\u001b[0m\u001b[1;33m[\u001b[0m\u001b[1;34m'TransactionDate'\u001b[0m\u001b[1;33m,\u001b[0m\u001b[1;34m'Channel'\u001b[0m\u001b[1;33m]\u001b[0m\u001b[1;33m)\u001b[0m\u001b[1;33m.\u001b[0m\u001b[0magg\u001b[0m\u001b[1;33m(\u001b[0m\u001b[0mtotal_orders\u001b[0m\u001b[1;33m=\u001b[0m\u001b[1;33m(\u001b[0m\u001b[1;34m'OrderID'\u001b[0m\u001b[1;33m,\u001b[0m\u001b[1;34m'count'\u001b[0m\u001b[1;33m)\u001b[0m\u001b[1;33m,\u001b[0m\u001b[0mtotal_customers\u001b[0m \u001b[1;33m=\u001b[0m \u001b[1;33m(\u001b[0m\u001b[1;34m'CustomerID'\u001b[0m\u001b[1;33m,\u001b[0m\u001b[1;34m'count'\u001b[0m\u001b[1;33m)\u001b[0m\u001b[1;33m,\u001b[0m\u001b[0mtotal_items\u001b[0m \u001b[1;33m=\u001b[0m \u001b[1;33m(\u001b[0m\u001b[1;34m'ItemID'\u001b[0m\u001b[1;33m,\u001b[0m\u001b[1;34m'count'\u001b[0m\u001b[1;33m)\u001b[0m\u001b[1;33m)\u001b[0m\u001b[1;33m\u001b[0m\u001b[1;33m\u001b[0m\u001b[0m\n\u001b[0m",
      "\u001b[1;32m~\\anaconda3\\lib\\site-packages\\pandas\\core\\groupby\\generic.py\u001b[0m in \u001b[0;36maggregate\u001b[1;34m(self, func, engine, engine_kwargs, *args, **kwargs)\u001b[0m\n\u001b[0;32m    867\u001b[0m \u001b[1;33m\u001b[0m\u001b[0m\n\u001b[0;32m    868\u001b[0m         \u001b[0mop\u001b[0m \u001b[1;33m=\u001b[0m \u001b[0mGroupByApply\u001b[0m\u001b[1;33m(\u001b[0m\u001b[0mself\u001b[0m\u001b[1;33m,\u001b[0m \u001b[0mfunc\u001b[0m\u001b[1;33m,\u001b[0m \u001b[0margs\u001b[0m\u001b[1;33m,\u001b[0m \u001b[0mkwargs\u001b[0m\u001b[1;33m)\u001b[0m\u001b[1;33m\u001b[0m\u001b[1;33m\u001b[0m\u001b[0m\n\u001b[1;32m--> 869\u001b[1;33m         \u001b[0mresult\u001b[0m \u001b[1;33m=\u001b[0m \u001b[0mop\u001b[0m\u001b[1;33m.\u001b[0m\u001b[0magg\u001b[0m\u001b[1;33m(\u001b[0m\u001b[1;33m)\u001b[0m\u001b[1;33m\u001b[0m\u001b[1;33m\u001b[0m\u001b[0m\n\u001b[0m\u001b[0;32m    870\u001b[0m         \u001b[1;32mif\u001b[0m \u001b[1;32mnot\u001b[0m \u001b[0mis_dict_like\u001b[0m\u001b[1;33m(\u001b[0m\u001b[0mfunc\u001b[0m\u001b[1;33m)\u001b[0m \u001b[1;32mand\u001b[0m \u001b[0mresult\u001b[0m \u001b[1;32mis\u001b[0m \u001b[1;32mnot\u001b[0m \u001b[1;32mNone\u001b[0m\u001b[1;33m:\u001b[0m\u001b[1;33m\u001b[0m\u001b[1;33m\u001b[0m\u001b[0m\n\u001b[0;32m    871\u001b[0m             \u001b[1;32mreturn\u001b[0m \u001b[0mresult\u001b[0m\u001b[1;33m\u001b[0m\u001b[1;33m\u001b[0m\u001b[0m\n",
      "\u001b[1;32m~\\anaconda3\\lib\\site-packages\\pandas\\core\\apply.py\u001b[0m in \u001b[0;36magg\u001b[1;34m(self)\u001b[0m\n\u001b[0;32m    166\u001b[0m \u001b[1;33m\u001b[0m\u001b[0m\n\u001b[0;32m    167\u001b[0m         \u001b[1;32mif\u001b[0m \u001b[0mis_dict_like\u001b[0m\u001b[1;33m(\u001b[0m\u001b[0marg\u001b[0m\u001b[1;33m)\u001b[0m\u001b[1;33m:\u001b[0m\u001b[1;33m\u001b[0m\u001b[1;33m\u001b[0m\u001b[0m\n\u001b[1;32m--> 168\u001b[1;33m             \u001b[1;32mreturn\u001b[0m \u001b[0mself\u001b[0m\u001b[1;33m.\u001b[0m\u001b[0magg_dict_like\u001b[0m\u001b[1;33m(\u001b[0m\u001b[1;33m)\u001b[0m\u001b[1;33m\u001b[0m\u001b[1;33m\u001b[0m\u001b[0m\n\u001b[0m\u001b[0;32m    169\u001b[0m         \u001b[1;32melif\u001b[0m \u001b[0mis_list_like\u001b[0m\u001b[1;33m(\u001b[0m\u001b[0marg\u001b[0m\u001b[1;33m)\u001b[0m\u001b[1;33m:\u001b[0m\u001b[1;33m\u001b[0m\u001b[1;33m\u001b[0m\u001b[0m\n\u001b[0;32m    170\u001b[0m             \u001b[1;31m# we require a list, but not a 'str'\u001b[0m\u001b[1;33m\u001b[0m\u001b[1;33m\u001b[0m\u001b[0m\n",
      "\u001b[1;32m~\\anaconda3\\lib\\site-packages\\pandas\\core\\apply.py\u001b[0m in \u001b[0;36magg_dict_like\u001b[1;34m(self)\u001b[0m\n\u001b[0;32m    471\u001b[0m             \u001b[0mselection\u001b[0m \u001b[1;33m=\u001b[0m \u001b[0mobj\u001b[0m\u001b[1;33m.\u001b[0m\u001b[0m_selection\u001b[0m\u001b[1;33m\u001b[0m\u001b[1;33m\u001b[0m\u001b[0m\n\u001b[0;32m    472\u001b[0m \u001b[1;33m\u001b[0m\u001b[0m\n\u001b[1;32m--> 473\u001b[1;33m         \u001b[0marg\u001b[0m \u001b[1;33m=\u001b[0m \u001b[0mself\u001b[0m\u001b[1;33m.\u001b[0m\u001b[0mnormalize_dictlike_arg\u001b[0m\u001b[1;33m(\u001b[0m\u001b[1;34m\"agg\"\u001b[0m\u001b[1;33m,\u001b[0m \u001b[0mselected_obj\u001b[0m\u001b[1;33m,\u001b[0m \u001b[0marg\u001b[0m\u001b[1;33m)\u001b[0m\u001b[1;33m\u001b[0m\u001b[1;33m\u001b[0m\u001b[0m\n\u001b[0m\u001b[0;32m    474\u001b[0m \u001b[1;33m\u001b[0m\u001b[0m\n\u001b[0;32m    475\u001b[0m         \u001b[1;32mif\u001b[0m \u001b[0mselected_obj\u001b[0m\u001b[1;33m.\u001b[0m\u001b[0mndim\u001b[0m \u001b[1;33m==\u001b[0m \u001b[1;36m1\u001b[0m\u001b[1;33m:\u001b[0m\u001b[1;33m\u001b[0m\u001b[1;33m\u001b[0m\u001b[0m\n",
      "\u001b[1;32m~\\anaconda3\\lib\\site-packages\\pandas\\core\\apply.py\u001b[0m in \u001b[0;36mnormalize_dictlike_arg\u001b[1;34m(self, how, obj, func)\u001b[0m\n\u001b[0;32m    589\u001b[0m             \u001b[1;32mif\u001b[0m \u001b[0mlen\u001b[0m\u001b[1;33m(\u001b[0m\u001b[0mcols\u001b[0m\u001b[1;33m)\u001b[0m \u001b[1;33m>\u001b[0m \u001b[1;36m0\u001b[0m\u001b[1;33m:\u001b[0m\u001b[1;33m\u001b[0m\u001b[1;33m\u001b[0m\u001b[0m\n\u001b[0;32m    590\u001b[0m                 \u001b[0mcols_sorted\u001b[0m \u001b[1;33m=\u001b[0m \u001b[0mlist\u001b[0m\u001b[1;33m(\u001b[0m\u001b[0msafe_sort\u001b[0m\u001b[1;33m(\u001b[0m\u001b[0mlist\u001b[0m\u001b[1;33m(\u001b[0m\u001b[0mcols\u001b[0m\u001b[1;33m)\u001b[0m\u001b[1;33m)\u001b[0m\u001b[1;33m)\u001b[0m\u001b[1;33m\u001b[0m\u001b[1;33m\u001b[0m\u001b[0m\n\u001b[1;32m--> 591\u001b[1;33m                 \u001b[1;32mraise\u001b[0m \u001b[0mKeyError\u001b[0m\u001b[1;33m(\u001b[0m\u001b[1;34mf\"Column(s) {cols_sorted} do not exist\"\u001b[0m\u001b[1;33m)\u001b[0m\u001b[1;33m\u001b[0m\u001b[1;33m\u001b[0m\u001b[0m\n\u001b[0m\u001b[0;32m    592\u001b[0m \u001b[1;33m\u001b[0m\u001b[0m\n\u001b[0;32m    593\u001b[0m         \u001b[0mis_aggregator\u001b[0m \u001b[1;33m=\u001b[0m \u001b[1;32mlambda\u001b[0m \u001b[0mx\u001b[0m\u001b[1;33m:\u001b[0m \u001b[0misinstance\u001b[0m\u001b[1;33m(\u001b[0m\u001b[0mx\u001b[0m\u001b[1;33m,\u001b[0m \u001b[1;33m(\u001b[0m\u001b[0mlist\u001b[0m\u001b[1;33m,\u001b[0m \u001b[0mtuple\u001b[0m\u001b[1;33m,\u001b[0m \u001b[0mdict\u001b[0m\u001b[1;33m)\u001b[0m\u001b[1;33m)\u001b[0m\u001b[1;33m\u001b[0m\u001b[1;33m\u001b[0m\u001b[0m\n",
      "\u001b[1;31mKeyError\u001b[0m: \"Column(s) ['OrderID'] do not exist\""
     ]
    }
   ],
   "source": [
    "transaction_summary = result.groupby(['TransactionDate','Channel']).agg(total_orders=('OrderID','count'),total_customers = ('CustomerID','count'),total_items = ('ItemID','count'))"
   ]
  },
  {
   "cell_type": "code",
   "execution_count": null,
   "id": "786dd876",
   "metadata": {},
   "outputs": [],
   "source": []
  }
 ],
 "metadata": {
  "kernelspec": {
   "display_name": "Python 3 (ipykernel)",
   "language": "python",
   "name": "python3"
  },
  "language_info": {
   "codemirror_mode": {
    "name": "ipython",
    "version": 3
   },
   "file_extension": ".py",
   "mimetype": "text/x-python",
   "name": "python",
   "nbconvert_exporter": "python",
   "pygments_lexer": "ipython3",
   "version": "3.9.13"
  }
 },
 "nbformat": 4,
 "nbformat_minor": 5
}
